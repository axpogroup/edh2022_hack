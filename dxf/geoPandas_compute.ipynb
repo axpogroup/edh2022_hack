{
 "cells": [
  {
   "cell_type": "code",
   "execution_count": 11,
   "id": "c83da72b",
   "metadata": {},
   "outputs": [
    {
     "name": "stdout",
     "output_type": "stream",
     "text": [
      "The autoreload extension is already loaded. To reload it, use:\n",
      "  %reload_ext autoreload\n"
     ]
    }
   ],
   "source": [
    "import geopandas as gpd\n",
    "%load_ext autoreload\n",
    "%autoreload 2\n",
    "from gdf_metrics_computation import *"
   ]
  },
  {
   "cell_type": "code",
   "execution_count": 12,
   "id": "987ac95b",
   "metadata": {},
   "outputs": [
    {
     "data": {
      "text/plain": "                    Layer PaperSpace                   SubClasses Linetype  \\\n0     Gebaeude Einzelhaus       None  AcDbEntity:AcDbPolyFaceMesh     None   \n1     Gebaeude Einzelhaus       None  AcDbEntity:AcDbPolyFaceMesh     None   \n2     Gebaeude Einzelhaus       None  AcDbEntity:AcDbPolyFaceMesh     None   \n3     Gebaeude Einzelhaus       None  AcDbEntity:AcDbPolyFaceMesh     None   \n4     Gebaeude Einzelhaus       None  AcDbEntity:AcDbPolyFaceMesh     None   \n...                   ...        ...                          ...      ...   \n1874  Gebaeude Einzelhaus       None  AcDbEntity:AcDbPolyFaceMesh     None   \n1875  Gebaeude Einzelhaus       None  AcDbEntity:AcDbPolyFaceMesh     None   \n1876  Gebaeude Einzelhaus       None  AcDbEntity:AcDbPolyFaceMesh     None   \n1877  Gebaeude Einzelhaus       None  AcDbEntity:AcDbPolyFaceMesh     None   \n1878  Gebaeude Einzelhaus       None  AcDbEntity:AcDbPolyFaceMesh     None   \n\n     EntityHandle  Text                                           geometry  \n0              70  None  MULTIPOLYGON Z (((2657460.991 1216407.070 616....  \n1              DE  None  MULTIPOLYGON Z (((2658161.531 1216808.966 542....  \n2             10A  None  MULTIPOLYGON Z (((2657477.949 1216827.938 582....  \n3             160  None  MULTIPOLYGON Z (((2658708.284 1216295.554 546....  \n4             1D3  None  MULTIPOLYGON Z (((2657656.504 1217295.045 545....  \n...           ...   ...                                                ...  \n1874        237B4  None  MULTIPOLYGON Z (((2657493.305 1217350.345 551....  \n1875        237C6  None  MULTIPOLYGON Z (((2658578.884 1216375.768 542....  \n1876        237F8  None  MULTIPOLYGON Z (((2657576.400 1217407.150 539....  \n1877        238E4  None  MULTIPOLYGON Z (((2655776.906 1215425.252 785....  \n1878        2391A  None  MULTIPOLYGON Z (((2659380.995 1216501.253 531....  \n\n[1879 rows x 7 columns]",
      "text/html": "<div>\n<style scoped>\n    .dataframe tbody tr th:only-of-type {\n        vertical-align: middle;\n    }\n\n    .dataframe tbody tr th {\n        vertical-align: top;\n    }\n\n    .dataframe thead th {\n        text-align: right;\n    }\n</style>\n<table border=\"1\" class=\"dataframe\">\n  <thead>\n    <tr style=\"text-align: right;\">\n      <th></th>\n      <th>Layer</th>\n      <th>PaperSpace</th>\n      <th>SubClasses</th>\n      <th>Linetype</th>\n      <th>EntityHandle</th>\n      <th>Text</th>\n      <th>geometry</th>\n    </tr>\n  </thead>\n  <tbody>\n    <tr>\n      <th>0</th>\n      <td>Gebaeude Einzelhaus</td>\n      <td>None</td>\n      <td>AcDbEntity:AcDbPolyFaceMesh</td>\n      <td>None</td>\n      <td>70</td>\n      <td>None</td>\n      <td>MULTIPOLYGON Z (((2657460.991 1216407.070 616....</td>\n    </tr>\n    <tr>\n      <th>1</th>\n      <td>Gebaeude Einzelhaus</td>\n      <td>None</td>\n      <td>AcDbEntity:AcDbPolyFaceMesh</td>\n      <td>None</td>\n      <td>DE</td>\n      <td>None</td>\n      <td>MULTIPOLYGON Z (((2658161.531 1216808.966 542....</td>\n    </tr>\n    <tr>\n      <th>2</th>\n      <td>Gebaeude Einzelhaus</td>\n      <td>None</td>\n      <td>AcDbEntity:AcDbPolyFaceMesh</td>\n      <td>None</td>\n      <td>10A</td>\n      <td>None</td>\n      <td>MULTIPOLYGON Z (((2657477.949 1216827.938 582....</td>\n    </tr>\n    <tr>\n      <th>3</th>\n      <td>Gebaeude Einzelhaus</td>\n      <td>None</td>\n      <td>AcDbEntity:AcDbPolyFaceMesh</td>\n      <td>None</td>\n      <td>160</td>\n      <td>None</td>\n      <td>MULTIPOLYGON Z (((2658708.284 1216295.554 546....</td>\n    </tr>\n    <tr>\n      <th>4</th>\n      <td>Gebaeude Einzelhaus</td>\n      <td>None</td>\n      <td>AcDbEntity:AcDbPolyFaceMesh</td>\n      <td>None</td>\n      <td>1D3</td>\n      <td>None</td>\n      <td>MULTIPOLYGON Z (((2657656.504 1217295.045 545....</td>\n    </tr>\n    <tr>\n      <th>...</th>\n      <td>...</td>\n      <td>...</td>\n      <td>...</td>\n      <td>...</td>\n      <td>...</td>\n      <td>...</td>\n      <td>...</td>\n    </tr>\n    <tr>\n      <th>1874</th>\n      <td>Gebaeude Einzelhaus</td>\n      <td>None</td>\n      <td>AcDbEntity:AcDbPolyFaceMesh</td>\n      <td>None</td>\n      <td>237B4</td>\n      <td>None</td>\n      <td>MULTIPOLYGON Z (((2657493.305 1217350.345 551....</td>\n    </tr>\n    <tr>\n      <th>1875</th>\n      <td>Gebaeude Einzelhaus</td>\n      <td>None</td>\n      <td>AcDbEntity:AcDbPolyFaceMesh</td>\n      <td>None</td>\n      <td>237C6</td>\n      <td>None</td>\n      <td>MULTIPOLYGON Z (((2658578.884 1216375.768 542....</td>\n    </tr>\n    <tr>\n      <th>1876</th>\n      <td>Gebaeude Einzelhaus</td>\n      <td>None</td>\n      <td>AcDbEntity:AcDbPolyFaceMesh</td>\n      <td>None</td>\n      <td>237F8</td>\n      <td>None</td>\n      <td>MULTIPOLYGON Z (((2657576.400 1217407.150 539....</td>\n    </tr>\n    <tr>\n      <th>1877</th>\n      <td>Gebaeude Einzelhaus</td>\n      <td>None</td>\n      <td>AcDbEntity:AcDbPolyFaceMesh</td>\n      <td>None</td>\n      <td>238E4</td>\n      <td>None</td>\n      <td>MULTIPOLYGON Z (((2655776.906 1215425.252 785....</td>\n    </tr>\n    <tr>\n      <th>1878</th>\n      <td>Gebaeude Einzelhaus</td>\n      <td>None</td>\n      <td>AcDbEntity:AcDbPolyFaceMesh</td>\n      <td>None</td>\n      <td>2391A</td>\n      <td>None</td>\n      <td>MULTIPOLYGON Z (((2659380.995 1216501.253 531....</td>\n    </tr>\n  </tbody>\n</table>\n<p>1879 rows × 7 columns</p>\n</div>"
     },
     "execution_count": 12,
     "metadata": {},
     "output_type": "execute_result"
    }
   ],
   "source": [
    "gdf = gpd.read_file('../../Data/SWISSBUILDINGS3D_2_0_CHLV95LN02_1150-11.dxf')\n",
    "gdf"
   ]
  },
  {
   "cell_type": "code",
   "execution_count": 13,
   "id": "84c35e15",
   "metadata": {},
   "outputs": [],
   "source": [
    "tmp = gdf.apply(getPoints, axis=1)\n",
    "test = computeMetrics(gdf)"
   ]
  },
  {
   "cell_type": "code",
   "execution_count": 14,
   "id": "10d8f53e",
   "metadata": {},
   "outputs": [
    {
     "data": {
      "text/plain": "      volume                                       bounding_box  \\\n0    2338.01  [[2657457.662999999, 1216397.927999999, 616.06...   \n1     403.42  [[2658155.833000001, 1216799.57, 542.455000000...   \n2    1112.02  [[2657472.517999999, 1216821.289000001, 582.62...   \n3    1489.51  [[2658703.905000001, 1216292.114, 546.93899999...   \n4    1330.31  [[2657652.613000002, 1217280.982999999, 545.34...   \n...      ...                                                ...   \n1874   51.64  [[2657492.813000001, 1217347.510000002, 551.92...   \n1875 1342.36  [[2658564.399999999, 1216366.669, 542.32899999...   \n1876 1592.91  [[2657573.408, 1217398.465, 539.4590000000026]...   \n1877 1576.30  [[2655775.559999999, 1215411.103, 785.62099999...   \n1878 1449.00  [[2659366.557999998, 1216495.109000001, 531.88...   \n\n                                          ground_center                Layer  \\\n0     [2657467.5764999986, 1216407.845999999, 616.06...  Gebaeude Einzelhaus   \n1     [2658159.8820000016, 1216804.7880000006, 542.4...  Gebaeude Einzelhaus   \n2        [2657480.534, 1216829.3585, 582.6230000000069]  Gebaeude Einzelhaus   \n3     [2658711.1400000006, 1216299.5539999995, 546.9...  Gebaeude Einzelhaus   \n4     [2657658.561000001, 1217288.171, 545.347999999...  Gebaeude Einzelhaus   \n...                                                 ...                  ...   \n1874  [2657494.2705000006, 1217348.9275000007, 551.9...  Gebaeude Einzelhaus   \n1875  [2658572.692, 1216374.9415000011, 542.32899999...  Gebaeude Einzelhaus   \n1876  [2657586.6889999993, 1217406.1555000006, 539.4...  Gebaeude Einzelhaus   \n1877  [2655781.8204999994, 1215419.1779999994, 785.6...  Gebaeude Einzelhaus   \n1878  [2659374.4589999984, 1216503.0085000005, 531.8...  Gebaeude Einzelhaus   \n\n     EntityHandle  \n0              70  \n1              DE  \n2             10A  \n3             160  \n4             1D3  \n...           ...  \n1874        237B4  \n1875        237C6  \n1876        237F8  \n1877        238E4  \n1878        2391A  \n\n[1879 rows x 5 columns]",
      "text/html": "<div>\n<style scoped>\n    .dataframe tbody tr th:only-of-type {\n        vertical-align: middle;\n    }\n\n    .dataframe tbody tr th {\n        vertical-align: top;\n    }\n\n    .dataframe thead th {\n        text-align: right;\n    }\n</style>\n<table border=\"1\" class=\"dataframe\">\n  <thead>\n    <tr style=\"text-align: right;\">\n      <th></th>\n      <th>volume</th>\n      <th>bounding_box</th>\n      <th>ground_center</th>\n      <th>Layer</th>\n      <th>EntityHandle</th>\n    </tr>\n  </thead>\n  <tbody>\n    <tr>\n      <th>0</th>\n      <td>2338.01</td>\n      <td>[[2657457.662999999, 1216397.927999999, 616.06...</td>\n      <td>[2657467.5764999986, 1216407.845999999, 616.06...</td>\n      <td>Gebaeude Einzelhaus</td>\n      <td>70</td>\n    </tr>\n    <tr>\n      <th>1</th>\n      <td>403.42</td>\n      <td>[[2658155.833000001, 1216799.57, 542.455000000...</td>\n      <td>[2658159.8820000016, 1216804.7880000006, 542.4...</td>\n      <td>Gebaeude Einzelhaus</td>\n      <td>DE</td>\n    </tr>\n    <tr>\n      <th>2</th>\n      <td>1112.02</td>\n      <td>[[2657472.517999999, 1216821.289000001, 582.62...</td>\n      <td>[2657480.534, 1216829.3585, 582.6230000000069]</td>\n      <td>Gebaeude Einzelhaus</td>\n      <td>10A</td>\n    </tr>\n    <tr>\n      <th>3</th>\n      <td>1489.51</td>\n      <td>[[2658703.905000001, 1216292.114, 546.93899999...</td>\n      <td>[2658711.1400000006, 1216299.5539999995, 546.9...</td>\n      <td>Gebaeude Einzelhaus</td>\n      <td>160</td>\n    </tr>\n    <tr>\n      <th>4</th>\n      <td>1330.31</td>\n      <td>[[2657652.613000002, 1217280.982999999, 545.34...</td>\n      <td>[2657658.561000001, 1217288.171, 545.347999999...</td>\n      <td>Gebaeude Einzelhaus</td>\n      <td>1D3</td>\n    </tr>\n    <tr>\n      <th>...</th>\n      <td>...</td>\n      <td>...</td>\n      <td>...</td>\n      <td>...</td>\n      <td>...</td>\n    </tr>\n    <tr>\n      <th>1874</th>\n      <td>51.64</td>\n      <td>[[2657492.813000001, 1217347.510000002, 551.92...</td>\n      <td>[2657494.2705000006, 1217348.9275000007, 551.9...</td>\n      <td>Gebaeude Einzelhaus</td>\n      <td>237B4</td>\n    </tr>\n    <tr>\n      <th>1875</th>\n      <td>1342.36</td>\n      <td>[[2658564.399999999, 1216366.669, 542.32899999...</td>\n      <td>[2658572.692, 1216374.9415000011, 542.32899999...</td>\n      <td>Gebaeude Einzelhaus</td>\n      <td>237C6</td>\n    </tr>\n    <tr>\n      <th>1876</th>\n      <td>1592.91</td>\n      <td>[[2657573.408, 1217398.465, 539.4590000000026]...</td>\n      <td>[2657586.6889999993, 1217406.1555000006, 539.4...</td>\n      <td>Gebaeude Einzelhaus</td>\n      <td>237F8</td>\n    </tr>\n    <tr>\n      <th>1877</th>\n      <td>1576.30</td>\n      <td>[[2655775.559999999, 1215411.103, 785.62099999...</td>\n      <td>[2655781.8204999994, 1215419.1779999994, 785.6...</td>\n      <td>Gebaeude Einzelhaus</td>\n      <td>238E4</td>\n    </tr>\n    <tr>\n      <th>1878</th>\n      <td>1449.00</td>\n      <td>[[2659366.557999998, 1216495.109000001, 531.88...</td>\n      <td>[2659374.4589999984, 1216503.0085000005, 531.8...</td>\n      <td>Gebaeude Einzelhaus</td>\n      <td>2391A</td>\n    </tr>\n  </tbody>\n</table>\n<p>1879 rows × 5 columns</p>\n</div>"
     },
     "execution_count": 14,
     "metadata": {},
     "output_type": "execute_result"
    }
   ],
   "source": [
    "cleaned_df = gdf.loc[:,[\"volume\", \"bounding_box\", \"ground_center\", \"Layer\", \"EntityHandle\"]]\n",
    "cleaned_df.to_csv(\"volume_and_locations.csv\")\n",
    "cleaned_df"
   ]
  },
  {
   "cell_type": "code",
   "execution_count": null,
   "id": "705c0a20",
   "metadata": {},
   "outputs": [],
   "source": []
  }
 ],
 "metadata": {
  "kernelspec": {
   "display_name": "Python 3 (ipykernel)",
   "language": "python",
   "name": "python3"
  },
  "language_info": {
   "codemirror_mode": {
    "name": "ipython",
    "version": 3
   },
   "file_extension": ".py",
   "mimetype": "text/x-python",
   "name": "python",
   "nbconvert_exporter": "python",
   "pygments_lexer": "ipython3",
   "version": "3.10.4"
  }
 },
 "nbformat": 4,
 "nbformat_minor": 5
}
